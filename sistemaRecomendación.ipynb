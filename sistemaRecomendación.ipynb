{
  "nbformat": 4,
  "nbformat_minor": 0,
  "metadata": {
    "colab": {
      "provenance": [],
      "authorship_tag": "ABX9TyMc8jjpnEljpEgvzBOif5zF",
      "include_colab_link": true
    },
    "kernelspec": {
      "name": "python3",
      "display_name": "Python 3"
    },
    "language_info": {
      "name": "python"
    }
  },
  "cells": [
    {
      "cell_type": "markdown",
      "metadata": {
        "id": "view-in-github",
        "colab_type": "text"
      },
      "source": [
        "<a href=\"https://colab.research.google.com/github/aquilinoFrancisco/cjf/blob/main/sistemaRecomendaci%C3%B3n.ipynb\" target=\"_parent\"><img src=\"https://colab.research.google.com/assets/colab-badge.svg\" alt=\"Open In Colab\"/></a>"
      ]
    },
    {
      "cell_type": "code",
      "source": [
        "import os\n",
        "import random\n",
        "import numpy as np\n",
        "import pandas as pd\n",
        "from pyspark.ml.evaluation import RegressionEvaluator\n",
        "from pyspark.sql import SparkSession\n",
        "from pyspark.ml.recommendation import ALS"
      ],
      "metadata": {
        "id": "1tQDCIPgR0RG"
      },
      "execution_count": 16,
      "outputs": []
    },
    {
      "cell_type": "code",
      "source": [
        "from pyspark.sql import SparkSession, DataFrame as spDataFrame\n",
        "import pyspark as ps\n",
        "from pyspark import SparkConf, SparkContext\n",
        "import pyspark.sql.functions as F\n",
        "\n"
      ],
      "metadata": {
        "id": "6Qqr78HxO634"
      },
      "execution_count": 21,
      "outputs": []
    },
    {
      "cell_type": "markdown",
      "source": [
        "# Configuración de pyspark"
      ],
      "metadata": {
        "id": "mSsf5ciUcsBJ"
      }
    },
    {
      "cell_type": "code",
      "source": [
        "def _conf_pyspark(self):\n",
        "        conf = ps.SparkConf().setAll([(\"spark.network.timeout\", \"3000s\"),\n",
        "                                      (\"spark.executor.heartbeatInterval\", \"1200s\"),\n",
        "                                      (\"spark.driver.cores\", '2'),\n",
        "                                      (\"spark.driver.memory\", '8g'),\n",
        "                                      ('spark.executor.instances', '6'),\n",
        "                                      ('spark.executor.cores', '1'),\n",
        "                                      (\"spark.python.executor.memory\", \"2g\"),\n",
        "                                      ('spark.cores.max', '8'),\n",
        "                                      (\"spark.sql.debug.maxToStringFields\", 5000),\n",
        "                                      (\"spark.sql.shuffle.partitions\", \"1\"),\n",
        "                                      (\"spark.sql.execution.arrow.pyspark.enabled\", \"true\")])"
      ],
      "metadata": {
        "id": "ccp5llzLP0Eo"
      },
      "execution_count": 10,
      "outputs": []
    },
    {
      "cell_type": "code",
      "source": [
        "conf = self._conf_pyspark()\n",
        "self.spark = SparkSession.builder.config(conf=conf).master(\"local\").appName(\"Sistema de recomendaciones\").getOrCreate()"
      ],
      "metadata": {
        "id": "-kKwU4--aY3M"
      },
      "execution_count": null,
      "outputs": []
    },
    {
      "cell_type": "markdown",
      "source": [
        "# Paso 1: Procesamiento de Datos"
      ],
      "metadata": {
        "id": "880FI6Rbg-d7"
      }
    },
    {
      "cell_type": "code",
      "source": [
        "# Extract the dataset and load the data into PySpark DataFrame\n",
        "def load_data(filename):\n",
        "    df = spark.read.csv(filename, header=True, inferSchema=True)\n",
        "    # Convert the columns to the appropriate data types\n",
        "    df = df.withColumn('userId', ratings_data['userId'].cast('integer'))\n",
        "    df = df.withColumn('movieId', ratings_data['movieId'].cast('integer'))\n",
        "    df = df.withColumn('rating', ratings_data['rating'].cast('float'))\n",
        "    return df"
      ],
      "metadata": {
        "id": "ypGczd6MSOW9"
      },
      "execution_count": 17,
      "outputs": []
    },
    {
      "cell_type": "markdown",
      "source": [
        "# Paso 2: Construir el Modelo de Recomendación"
      ],
      "metadata": {
        "id": "yZqSpH44hNRI"
      }
    },
    {
      "cell_type": "code",
      "source": [
        "# Build the recommendation model using ALS (Alternating Least Squares)\n",
        "def train_model(df, rank):\n",
        "    als = ALS(userCol='userId', itemCol='movieId', ratingCol='rating',rank=rank, maxIter=10, implicitPrefs=True)\n",
        "    model = als.fit(df)\n",
        "    return model"
      ],
      "metadata": {
        "id": "Zv96nZhpWMvf"
      },
      "execution_count": 18,
      "outputs": []
    },
    {
      "cell_type": "markdown",
      "source": [
        "#  Paso 3: Generar recomendaciones"
      ],
      "metadata": {
        "id": "s2GiiLnwiFWJ"
      }
    },
    {
      "cell_type": "code",
      "source": [
        "def recommend(model, userID, num_recommendations):\n",
        "    recommendations = model.recommendProducts(userID, num_recommendations)\n",
        "    return recommendations"
      ],
      "metadata": {
        "id": "svtPI90gWRTt"
      },
      "execution_count": null,
      "outputs": []
    },
    {
      "cell_type": "markdown",
      "source": [
        "#Paso 4: Evaluar el modelo"
      ],
      "metadata": {
        "id": "-rSGvoOVkAIh"
      }
    },
    {
      "cell_type": "code",
      "source": [
        "def evaluate_model(testing_data,model):\n",
        "    predictions = model.transform(testing_data)\n",
        "    evaluator = RegressionEvaluator(metricName='rmse', labelCol='rating', predictionCol='prediction')\n",
        "    rmse = evaluator.evaluate(predictions)\n",
        "    return rmse"
      ],
      "metadata": {
        "id": "UZCGEzi5kUBu"
      },
      "execution_count": null,
      "outputs": []
    },
    {
      "cell_type": "code",
      "source": [
        "def main():\n",
        "    spark = SparkSession.builder.appName(\"SistemaDeRecomendaciones\").getOrCreate()\n",
        "    df = load_data(\"ratings.csv\")\n",
        "    # Split the dataset into training and testing sets\n",
        "    (training_data, testing_data) = df.randomSplit([0.8, 0.2])\n",
        "    model = train_model(df, 10)\n",
        "    recommendations = recommend(model, 1, 5)\n",
        "    print(recommendations)\n",
        "    accuracy = evaluate_model (testing_data,model)\n",
        "    print(f\"Root Mean Squared Error (RMSE): {accuracy}\")\n",
        "    # Stop the Spark session\n",
        "    spark.stop()"
      ],
      "metadata": {
        "id": "ZFq3e-ftWYS5"
      },
      "execution_count": 19,
      "outputs": []
    },
    {
      "cell_type": "code",
      "source": [
        "if __name__ == \"__main__\":\n",
        "    main()"
      ],
      "metadata": {
        "id": "fbjfSTYTZQLd"
      },
      "execution_count": null,
      "outputs": []
    }
  ]
}