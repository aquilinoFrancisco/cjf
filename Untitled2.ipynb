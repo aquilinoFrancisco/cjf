{
  "nbformat": 4,
  "nbformat_minor": 0,
  "metadata": {
    "colab": {
      "provenance": [],
      "authorship_tag": "ABX9TyO9SX5dQY7NdzjoTnviBGib",
      "include_colab_link": true
    },
    "kernelspec": {
      "name": "python3",
      "display_name": "Python 3"
    },
    "language_info": {
      "name": "python"
    }
  },
  "cells": [
    {
      "cell_type": "markdown",
      "metadata": {
        "id": "view-in-github",
        "colab_type": "text"
      },
      "source": [
        "<a href=\"https://colab.research.google.com/github/aquilinoFrancisco/cjf/blob/main/Untitled2.ipynb\" target=\"_parent\"><img src=\"https://colab.research.google.com/assets/colab-badge.svg\" alt=\"Open In Colab\"/></a>"
      ]
    },
    {
      "cell_type": "code",
      "source": [
        "pip install pyspark\n"
      ],
      "metadata": {
        "colab": {
          "base_uri": "https://localhost:8080/"
        },
        "id": "tuqPUdMaOYgd",
        "outputId": "88dbfc0a-81ba-4f0c-a24c-1e6fbd9941ec"
      },
      "execution_count": 2,
      "outputs": [
        {
          "output_type": "stream",
          "name": "stdout",
          "text": [
            "Looking in indexes: https://pypi.org/simple, https://us-python.pkg.dev/colab-wheels/public/simple/\n",
            "Collecting pyspark\n",
            "  Downloading pyspark-3.4.0.tar.gz (310.8 MB)\n",
            "\u001b[2K     \u001b[90m━━━━━━━━━━━━━━━━━━━━━━━━━━━━━━━━━━━━━━━\u001b[0m \u001b[32m310.8/310.8 MB\u001b[0m \u001b[31m2.9 MB/s\u001b[0m eta \u001b[36m0:00:00\u001b[0m\n",
            "\u001b[?25h  Preparing metadata (setup.py) ... \u001b[?25l\u001b[?25hdone\n",
            "Requirement already satisfied: py4j==0.10.9.7 in /usr/local/lib/python3.10/dist-packages (from pyspark) (0.10.9.7)\n",
            "Building wheels for collected packages: pyspark\n",
            "  Building wheel for pyspark (setup.py) ... \u001b[?25l\u001b[?25hdone\n",
            "  Created wheel for pyspark: filename=pyspark-3.4.0-py2.py3-none-any.whl size=311317130 sha256=e631c497cc1c0317e144171ddd9f7a8e3cd91c3a3e9421ba819ffd1f139702b7\n",
            "  Stored in directory: /root/.cache/pip/wheels/7b/1b/4b/3363a1d04368e7ff0d408e57ff57966fcdf00583774e761327\n",
            "Successfully built pyspark\n",
            "Installing collected packages: pyspark\n",
            "Successfully installed pyspark-3.4.0\n"
          ]
        }
      ]
    },
    {
      "cell_type": "code",
      "source": [
        "import os\n",
        "import random\n",
        "import numpy as np\n",
        "import pandas as pd\n",
        "from pyspark.ml.evaluation import RegressionEvaluator\n",
        "from pyspark.sql import SparkSession\n",
        "from pyspark.ml.recommendation import ALS"
      ],
      "metadata": {
        "id": "1tQDCIPgR0RG"
      },
      "execution_count": 16,
      "outputs": []
    },
    {
      "cell_type": "code",
      "source": [
        "from pyspark.sql import SparkSession, DataFrame as spDataFrame\n",
        "import pyspark as ps\n",
        "from pyspark import SparkConf, SparkContext\n",
        "import pyspark.sql.functions as F\n",
        "\n"
      ],
      "metadata": {
        "id": "6Qqr78HxO634"
      },
      "execution_count": 21,
      "outputs": []
    },
    {
      "cell_type": "code",
      "source": [
        "def _conf_pyspark(self):\n",
        "        conf = ps.SparkConf().setAll([(\"spark.network.timeout\", \"3000s\"),\n",
        "                                      (\"spark.executor.heartbeatInterval\", \"1200s\"),\n",
        "                                      (\"spark.driver.cores\", '2'),\n",
        "                                      (\"spark.driver.memory\", '8g'),\n",
        "                                      ('spark.executor.instances', '6'),\n",
        "                                      ('spark.executor.cores', '1'),\n",
        "                                      (\"spark.python.executor.memory\", \"2g\"),\n",
        "                                      ('spark.cores.max', '8'),\n",
        "                                      (\"spark.sql.debug.maxToStringFields\", 5000),\n",
        "                                      (\"spark.sql.shuffle.partitions\", \"1\"),\n",
        "                                      (\"spark.sql.execution.arrow.pyspark.enabled\", \"true\")])"
      ],
      "metadata": {
        "id": "ccp5llzLP0Eo"
      },
      "execution_count": 10,
      "outputs": []
    },
    {
      "cell_type": "code",
      "source": [
        "conf = self._conf_pyspark()\n",
        "self.spark = SparkSession.builder.config(conf=conf).master(\"local\").appName(\"Percepcion de precios\").getOrCreate()"
      ],
      "metadata": {
        "id": "-kKwU4--aY3M"
      },
      "execution_count": null,
      "outputs": []
    },
    {
      "cell_type": "code",
      "source": [
        "def load_data(filename):\n",
        "    df = spark.read.csv(filename, header=True, inferSchema=True)\n",
        "    return df"
      ],
      "metadata": {
        "id": "ypGczd6MSOW9"
      },
      "execution_count": 17,
      "outputs": []
    },
    {
      "cell_type": "code",
      "source": [
        "def train_model(df, rank):\n",
        "    als = ALS(rank=rank, maxIter=10, implicitPrefs=True)\n",
        "    model = als.fit(df)\n",
        "    return model"
      ],
      "metadata": {
        "id": "Zv96nZhpWMvf"
      },
      "execution_count": 18,
      "outputs": []
    },
    {
      "cell_type": "code",
      "source": [
        "def recommend(model, userID, num_recommendations):\n",
        "    recommendations = model.recommendProducts(userID, num_recommendations)\n",
        "    return recommendations"
      ],
      "metadata": {
        "id": "svtPI90gWRTt"
      },
      "execution_count": null,
      "outputs": []
    },
    {
      "cell_type": "code",
      "source": [
        "def main():\n",
        "    spark = SparkSession.builder.appName(\"SistemaDeRecomendaciones\").getOrCreate()\n",
        "    df = load_data(\"ratings.csv\")\n",
        "    model = train_model(df, 10)\n",
        "    recommendations = recommend(model, 1, 5)\n",
        "    print(recommendations)"
      ],
      "metadata": {
        "id": "ZFq3e-ftWYS5"
      },
      "execution_count": 19,
      "outputs": []
    },
    {
      "cell_type": "code",
      "source": [
        "if __name__ == \"__main__\":\n",
        "    main()"
      ],
      "metadata": {
        "id": "fbjfSTYTZQLd"
      },
      "execution_count": null,
      "outputs": []
    }
  ]
}